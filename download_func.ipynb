{
 "cells": [
  {
   "cell_type": "code",
   "execution_count": 2,
   "id": "ccc5ef73-f946-4de8-8df7-f4e16ecfa9e4",
   "metadata": {
    "scrolled": true
   },
   "outputs": [
    {
     "name": "stdout",
     "output_type": "stream",
     "text": [
      "Requirement already satisfied: yfinance in c:\\users\\hp\\desktop\\aims\\block 2025\\ddo\\control-hand-project\\myvenv\\lib\\site-packages (0.2.56)\n",
      "Requirement already satisfied: pandas>=1.3.0 in c:\\users\\hp\\desktop\\aims\\block 2025\\ddo\\control-hand-project\\myvenv\\lib\\site-packages (from yfinance) (2.2.3)\n",
      "Requirement already satisfied: numpy>=1.16.5 in c:\\users\\hp\\desktop\\aims\\block 2025\\ddo\\control-hand-project\\myvenv\\lib\\site-packages (from yfinance) (2.0.2)\n",
      "Requirement already satisfied: requests>=2.31 in c:\\users\\hp\\desktop\\aims\\block 2025\\ddo\\control-hand-project\\myvenv\\lib\\site-packages (from yfinance) (2.32.3)\n",
      "Requirement already satisfied: multitasking>=0.0.7 in c:\\users\\hp\\desktop\\aims\\block 2025\\ddo\\control-hand-project\\myvenv\\lib\\site-packages (from yfinance) (0.0.11)\n",
      "Requirement already satisfied: platformdirs>=2.0.0 in c:\\users\\hp\\desktop\\aims\\block 2025\\ddo\\control-hand-project\\myvenv\\lib\\site-packages (from yfinance) (4.3.7)\n",
      "Requirement already satisfied: pytz>=2022.5 in c:\\users\\hp\\desktop\\aims\\block 2025\\ddo\\control-hand-project\\myvenv\\lib\\site-packages (from yfinance) (2025.1)\n",
      "Requirement already satisfied: frozendict>=2.3.4 in c:\\users\\hp\\desktop\\aims\\block 2025\\ddo\\control-hand-project\\myvenv\\lib\\site-packages (from yfinance) (2.4.6)\n",
      "Requirement already satisfied: peewee>=3.16.2 in c:\\users\\hp\\desktop\\aims\\block 2025\\ddo\\control-hand-project\\myvenv\\lib\\site-packages (from yfinance) (3.17.9)\n",
      "Requirement already satisfied: beautifulsoup4>=4.11.1 in c:\\users\\hp\\desktop\\aims\\block 2025\\ddo\\control-hand-project\\myvenv\\lib\\site-packages (from yfinance) (4.13.3)\n",
      "Requirement already satisfied: soupsieve>1.2 in c:\\users\\hp\\desktop\\aims\\block 2025\\ddo\\control-hand-project\\myvenv\\lib\\site-packages (from beautifulsoup4>=4.11.1->yfinance) (2.6)\n",
      "Requirement already satisfied: typing-extensions>=4.0.0 in c:\\users\\hp\\desktop\\aims\\block 2025\\ddo\\control-hand-project\\myvenv\\lib\\site-packages (from beautifulsoup4>=4.11.1->yfinance) (4.12.2)\n",
      "Requirement already satisfied: python-dateutil>=2.8.2 in c:\\users\\hp\\desktop\\aims\\block 2025\\ddo\\control-hand-project\\myvenv\\lib\\site-packages (from pandas>=1.3.0->yfinance) (2.9.0.post0)\n",
      "Requirement already satisfied: tzdata>=2022.7 in c:\\users\\hp\\desktop\\aims\\block 2025\\ddo\\control-hand-project\\myvenv\\lib\\site-packages (from pandas>=1.3.0->yfinance) (2025.1)\n",
      "Requirement already satisfied: charset-normalizer<4,>=2 in c:\\users\\hp\\desktop\\aims\\block 2025\\ddo\\control-hand-project\\myvenv\\lib\\site-packages (from requests>=2.31->yfinance) (3.4.1)\n",
      "Requirement already satisfied: idna<4,>=2.5 in c:\\users\\hp\\desktop\\aims\\block 2025\\ddo\\control-hand-project\\myvenv\\lib\\site-packages (from requests>=2.31->yfinance) (3.10)\n",
      "Requirement already satisfied: urllib3<3,>=1.21.1 in c:\\users\\hp\\desktop\\aims\\block 2025\\ddo\\control-hand-project\\myvenv\\lib\\site-packages (from requests>=2.31->yfinance) (2.3.0)\n",
      "Requirement already satisfied: certifi>=2017.4.17 in c:\\users\\hp\\desktop\\aims\\block 2025\\ddo\\control-hand-project\\myvenv\\lib\\site-packages (from requests>=2.31->yfinance) (2025.1.31)\n",
      "Requirement already satisfied: six>=1.5 in c:\\users\\hp\\desktop\\aims\\block 2025\\ddo\\control-hand-project\\myvenv\\lib\\site-packages (from python-dateutil>=2.8.2->pandas>=1.3.0->yfinance) (1.17.0)\n"
     ]
    },
    {
     "name": "stderr",
     "output_type": "stream",
     "text": [
      "\n",
      "[notice] A new release of pip is available: 24.3.1 -> 25.0.1\n",
      "[notice] To update, run: python.exe -m pip install --upgrade pip\n"
     ]
    }
   ],
   "source": [
    "!pip install yfinance"
   ]
  },
  {
   "cell_type": "code",
   "execution_count": 4,
   "id": "7dc0ae50-b6ef-4689-a178-899c468431d9",
   "metadata": {},
   "outputs": [
    {
     "name": "stderr",
     "output_type": "stream",
     "text": [
      "[*********************100%***********************]  1 of 1 completed\n"
     ]
    },
    {
     "name": "stdout",
     "output_type": "stream",
     "text": [
      "                         Close                High                 Low  \\\n",
      "Date                                                                     \n",
      "NaT                      ^GSPC               ^GSPC               ^GSPC   \n",
      "2000-01-03   1455.219970703125              1478.0  1438.3599853515625   \n",
      "2000-01-04  1399.4200439453125   1455.219970703125  1397.4300537109375   \n",
      "2000-01-05  1402.1099853515625    1413.27001953125  1377.6800537109375   \n",
      "2000-01-06   1403.449951171875  1411.9000244140625  1392.0999755859375   \n",
      "\n",
      "                          Open      Volume  \n",
      "Date                                        \n",
      "NaT                      ^GSPC       ^GSPC  \n",
      "2000-01-03             1469.25   931800000  \n",
      "2000-01-04   1455.219970703125  1009000000  \n",
      "2000-01-05  1399.4200439453125  1085500000  \n",
      "2000-01-06  1402.1099853515625  1092300000  \n"
     ]
    }
   ],
   "source": [
    "import os\n",
    "import yfinance as yf\n",
    "import pandas as pd\n",
    "\n",
    "# Download S&P 500 data\n",
    "ticker = \"^GSPC\"\n",
    "data = yf.download(ticker, start=\"2000-01-01\", end=\"2024-01-01\", auto_adjust=True)\n",
    "\n",
    "# Reset index to move 'Date' from index to column\n",
    "data = data.reset_index()\n",
    "\n",
    "# Save to CSV without issues\n",
    "data.to_csv('data/raw/sp500.csv', index=False)\n",
    "\n",
    "# Reload properly\n",
    "data = pd.read_csv('data/raw/sp500.csv', index_col='Date', parse_dates=True)\n",
    "\n",
    "# Display\n",
    "print(data.head())\n"
   ]
  },
  {
   "cell_type": "code",
   "execution_count": null,
   "id": "143dd369-9cd3-4c53-a312-6db3131bcfcf",
   "metadata": {},
   "outputs": [],
   "source": []
  }
 ],
 "metadata": {
  "kernelspec": {
   "display_name": "Python (myenv)",
   "language": "python",
   "name": "myenv"
  },
  "language_info": {
   "codemirror_mode": {
    "name": "ipython",
    "version": 3
   },
   "file_extension": ".py",
   "mimetype": "text/x-python",
   "name": "python",
   "nbconvert_exporter": "python",
   "pygments_lexer": "ipython3",
   "version": "3.12.10"
  }
 },
 "nbformat": 4,
 "nbformat_minor": 5
}
